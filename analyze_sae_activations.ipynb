{
 "cells": [
  {
   "cell_type": "markdown",
   "metadata": {},
   "source": [
    "# Analyzing SAE Activations for Perfect vs Non-Perfect Matches\n",
    "\n",
    "This notebook analyzes the layer 2 SAE activations from Llama 3.1 8B for perfect matches vs non-perfect matches in the memorization results."
   ]
  },
  {
   "cell_type": "code",
   "execution_count": null,
   "metadata": {},
   "outputs": [],
   "source": [
    "import pandas as pd\n",
    "import torch\n",
    "import numpy as np\n",
    "import plotly.express as px\n",
    "from sae_lens import SAE\n",
    "from transformers import AutoTokenizer, AutoModelForCausalLM\n",
    "import random\n",
    "from tqdm import tqdm"
   ]
  },
  {
   "cell_type": "code",
   "execution_count": null,
   "metadata": {},
   "outputs": [],
   "source": [
    "# Set device\n",
    "device = \"cuda\" if torch.cuda.is_available() else \"cpu\"\n",
    "print(f\"Using device: {device}\")\n",
    "\n",
    "# Load the SAE\n",
    "release = \"llama_scope_lxr_8x\"\n",
    "sae_id = \"l2r_8x\"\n",
    "sae = SAE.from_pretrained(release, sae_id)[0]\n",
    "sae = sae.to(device)\n",
    "\n",
    "input(\"Press Enter to start viewing...\")\n",
    "\n",
    "# Load model and tokenizer\n",
    "model_name = \"meta-llama/Meta-Llama-3-8B\"\n",
    "tokenizer = AutoTokenizer.from_pretrained(model_name)\n",
    "model = AutoModelForCausalLM.from_pretrained(model_name, device_map=device, torch_dtype=torch.bfloat16)"
   ]
  },
  {
   "cell_type": "code",
   "execution_count": null,
   "metadata": {},
   "outputs": [],
   "source": [
    "# Load the CSV file\n",
    "df = pd.read_csv('memorization_results_L50_O50.csv')\n",
    "\n",
    "# Split into perfect and non-perfect matches\n",
    "perfect_matches = df[df['perfect_match'] == True]\n",
    "non_perfect_matches = df[df['perfect_match'] == False]\n",
    "\n",
    "# Sample 10 from each\n",
    "random.seed(42)  # For reproducibility\n",
    "perfect_sample = perfect_matches.sample(n=10)\n",
    "non_perfect_sample = non_perfect_matches.sample(n=10)\n",
    "\n",
    "print(f\"Total perfect matches: {len(perfect_matches)}\")\n",
    "print(f\"Total non-perfect matches: {len(non_perfect_matches)}\")"
   ]
  },
  {
   "cell_type": "code",
   "execution_count": null,
   "metadata": {},
   "outputs": [],
   "source": [
    "def get_activations(text_input, text_output):\n",
    "    \"\"\"Get SAE activations for a given input-output pair\"\"\"\n",
    "    # Concatenate input and output\n",
    "    full_text = text_input + text_output\n",
    "    \n",
    "    # Tokenize without special tokens\n",
    "    tokens = tokenizer(full_text, return_tensors='pt', add_special_tokens=False)['input_ids'].to(device)\n",
    "    \n",
    "    # Get model activations\n",
    "    with torch.no_grad():\n",
    "        outputs = model(tokens, output_hidden_states=True)\n",
    "        # Get layer 2 activations\n",
    "        layer_2_acts = outputs.hidden_states[2]\n",
    "        \n",
    "        # Get SAE activations\n",
    "        sae_acts = sae.encode(layer_2_acts)\n",
    "        \n",
    "        # Only keep activations for output tokens (last 50)\n",
    "        output_acts = sae_acts[:, -50:, :]\n",
    "        \n",
    "    return output_acts.squeeze(0)  # Remove batch dimension"
   ]
  },
  {
   "cell_type": "code",
   "execution_count": null,
   "metadata": {},
   "outputs": [],
   "source": [
    "# Get activations for perfect matches\n",
    "perfect_activations = []\n",
    "print(\"Processing perfect matches...\")\n",
    "for _, row in tqdm(perfect_sample.iterrows()):\n",
    "    acts = get_activations(row['input_text'], row['generated_continuation_text'])\n",
    "    perfect_activations.append(acts)\n",
    "\n",
    "# Get activations for non-perfect matches\n",
    "non_perfect_activations = []\n",
    "print(\"\\nProcessing non-perfect matches...\")\n",
    "for _, row in tqdm(non_perfect_sample.iterrows()):\n",
    "    acts = get_activations(row['input_text'], row['generated_continuation_text'])\n",
    "    non_perfect_activations.append(acts)\n",
    "\n",
    "# Stack all activations\n",
    "perfect_acts_stacked = torch.cat(perfect_activations, dim=0)\n",
    "non_perfect_acts_stacked = torch.cat(non_perfect_activations, dim=0)"
   ]
  },
  {
   "cell_type": "code",
   "execution_count": null,
   "metadata": {},
   "outputs": [],
   "source": [
    "# Calculate statistics\n",
    "def compute_stats(activations):\n",
    "    \"\"\"Compute various statistics for the activations\"\"\"\n",
    "    # L0 (number of active features)\n",
    "    l0 = (activations > 0).float().sum(-1).mean().item()\n",
    "    \n",
    "    # Mean activation when active\n",
    "    mean_active = activations[activations > 0].mean().item()\n",
    "    \n",
    "    # Max activation\n",
    "    max_act = activations.max().item()\n",
    "    \n",
    "    # Feature sparsity (fraction of features that never activate)\n",
    "    feature_sparsity = ((activations > 0).sum(0) == 0).float().mean().item()\n",
    "    \n",
    "    return {\n",
    "        'L0 (avg active features)': l0,\n",
    "        'Mean activation when active': mean_active,\n",
    "        'Max activation': max_act,\n",
    "        'Feature sparsity': feature_sparsity\n",
    "    }\n",
    "\n",
    "perfect_stats = compute_stats(perfect_acts_stacked)\n",
    "non_perfect_stats = compute_stats(non_perfect_acts_stacked)\n",
    "\n",
    "# Print statistics\n",
    "print(\"Statistics for perfect matches:\")\n",
    "for k, v in perfect_stats.items():\n",
    "    print(f\"{k}: {v:.4f}\")\n",
    "\n",
    "print(\"\\nStatistics for non-perfect matches:\")\n",
    "for k, v in non_perfect_stats.items():\n",
    "    print(f\"{k}: {v:.4f}\")"
   ]
  },
  {
   "cell_type": "code",
   "execution_count": null,
   "metadata": {},
   "outputs": [],
   "source": [
    "# Plot L0 histograms\n",
    "l0_perfect = (perfect_acts_stacked > 0).float().sum(-1).cpu().numpy()\n",
    "l0_non_perfect = (non_perfect_acts_stacked > 0).float().sum(-1).cpu().numpy()\n",
    "\n",
    "# Create a DataFrame for plotting\n",
    "l0_data = pd.DataFrame({\n",
    "    'L0': np.concatenate([l0_perfect, l0_non_perfect]),\n",
    "    'Type': ['Perfect Match'] * len(l0_perfect) + ['Non-Perfect Match'] * len(l0_non_perfect)\n",
    "})\n",
    "\n",
    "# Plot histogram\n",
    "fig = px.histogram(l0_data, x='L0', color='Type', barmode='overlay',\n",
    "                  title='Distribution of Active Features (L0)',\n",
    "                  labels={'L0': 'Number of Active Features', 'count': 'Frequency'})\n",
    "fig.show()"
   ]
  },
  {
   "cell_type": "code",
   "execution_count": null,
   "metadata": {},
   "outputs": [],
   "source": [
    "# Plot activation magnitude distributions\n",
    "act_perfect = perfect_acts_stacked[perfect_acts_stacked > 0].cpu().numpy()\n",
    "act_non_perfect = non_perfect_acts_stacked[non_perfect_acts_stacked > 0].cpu().numpy()\n",
    "\n",
    "# Create a DataFrame for plotting\n",
    "act_data = pd.DataFrame({\n",
    "    'Activation': np.concatenate([act_perfect, act_non_perfect]),\n",
    "    'Type': ['Perfect Match'] * len(act_perfect) + ['Non-Perfect Match'] * len(act_non_perfect)\n",
    "})\n",
    "\n",
    "# Plot histogram\n",
    "fig = px.histogram(act_data, x='Activation', color='Type', barmode='overlay',\n",
    "                  title='Distribution of Activation Magnitudes',\n",
    "                  labels={'Activation': 'Activation Value', 'count': 'Frequency'})\n",
    "fig.show()"
   ]
  },
  {
   "cell_type": "code",
   "execution_count": null,
   "metadata": {},
   "outputs": [],
   "source": [
    "# Analyze feature usage patterns\n",
    "def get_top_features(activations, n=10):\n",
    "    \"\"\"Get the most frequently activated features\"\"\"\n",
    "    feature_counts = (activations > 0).float().sum((0))\n",
    "    top_features = torch.topk(feature_counts, n)\n",
    "    return top_features.indices.cpu().numpy(), top_features.values.cpu().numpy()\n",
    "\n",
    "# Get top features for both types\n",
    "perfect_top_idx, perfect_top_counts = get_top_features(perfect_acts_stacked)\n",
    "non_perfect_top_idx, non_perfect_top_counts = get_top_features(non_perfect_acts_stacked)\n",
    "\n",
    "print(\"Top 10 most active features for perfect matches:\")\n",
    "for idx, count in zip(perfect_top_idx, perfect_top_counts):\n",
    "    print(f\"Feature {idx}: activated {count:.0f} times\")\n",
    "\n",
    "print(\"\\nTop 10 most active features for non-perfect matches:\")\n",
    "for idx, count in zip(non_perfect_top_idx, non_perfect_top_counts):\n",
    "    print(f\"Feature {idx}: activated {count:.0f} times\")\n",
    "\n",
    "# Check overlap in top features\n",
    "overlap = set(perfect_top_idx) & set(non_perfect_top_idx)\n",
    "print(f\"\\nNumber of overlapping features in top 10: {len(overlap)}\")"
   ]
  }
 ],
 "metadata": {
  "kernelspec": {
   "display_name": "Python 3",
   "language": "python",
   "name": "python3"
  },
  "language_info": {
   "codemirror_mode": {
    "name": "ipython",
    "version": 3
   },
   "file_extension": ".py",
   "mimetype": "text/x-python",
   "name": "python",
   "nbconvert_exporter": "python",
   "pygments_lexer": "ipython3",
   "version": "3.8.0"
  }
 },
 "nbformat": 4,
 "nbformat_minor": 4
}
